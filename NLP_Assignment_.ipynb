{
  "nbformat": 4,
  "nbformat_minor": 0,
  "metadata": {
    "colab": {
      "name": "Nexon_Assignment_",
      "provenance": [],
      "collapsed_sections": [],
      "authorship_tag": "ABX9TyNaGRXGrvhYvBf9+yv2csOc",
      "include_colab_link": true
    },
    "kernelspec": {
      "name": "python3",
      "display_name": "Python 3"
    }
  },
  "cells": [
    {
      "cell_type": "markdown",
      "metadata": {
        "id": "view-in-github",
        "colab_type": "text"
      },
      "source": [
        "<a href=\"https://colab.research.google.com/github/ollpp/data_modeling/blob/master/NLP_Assignment_.ipynb\" target=\"_parent\"><img src=\"https://colab.research.google.com/assets/colab-badge.svg\" alt=\"Open In Colab\"/></a>"
      ]
    },
    {
      "cell_type": "code",
      "metadata": {
        "colab": {
          "base_uri": "https://localhost:8080/"
        },
        "id": "lWnl3pgzZQgR",
        "outputId": "50f3f452-38ed-44b2-97e3-ad2837d643c5"
      },
      "source": [
        "!git remote add origin https://github.com/ollpp/NLP_Assign.git\n",
        "!git branch -M main\n",
        "!git push -u origin main\n"
      ],
      "execution_count": null,
      "outputs": [
        {
          "output_type": "stream",
          "text": [
            "error: refname refs/heads/master not found\n",
            "fatal: Branch rename failed\n",
            "error: src refspec main does not match any.\n",
            "error: failed to push some refs to 'https://github.com/ollpp/NLP_Assign.git'\n"
          ],
          "name": "stdout"
        }
      ]
    },
    {
      "cell_type": "code",
      "metadata": {
        "colab": {
          "base_uri": "https://localhost:8080/"
        },
        "id": "Eml8l-pwZ055",
        "outputId": "4085c866-fe89-4f40-e58f-83ac26c75e25"
      },
      "source": [
        "!ls -lrt"
      ],
      "execution_count": null,
      "outputs": [
        {
          "output_type": "stream",
          "text": [
            "total 12\n",
            "drwxr-xr-x 1 root root 4096 Jul 16 13:20 sample_data\n",
            "drwx------ 5 root root 4096 Jul 25 11:05 gdrive\n",
            "drwxr-xr-x 3 root root 4096 Jul 25 11:16 NLP_Assign\n"
          ],
          "name": "stdout"
        }
      ]
    },
    {
      "cell_type": "code",
      "metadata": {
        "colab": {
          "base_uri": "https://localhost:8080/"
        },
        "id": "0_NtRgkRAcrX",
        "outputId": "4a498c34-000c-4a3a-b7a7-3abd8d8b47e4"
      },
      "source": [
        "from google.colab import drive\n",
        "\n",
        "drive.mount('/content/gdrive')"
      ],
      "execution_count": null,
      "outputs": [
        {
          "output_type": "stream",
          "text": [
            "Drive already mounted at /content/gdrive; to attempt to forcibly remount, call drive.mount(\"/content/gdrive\", force_remount=True).\n"
          ],
          "name": "stdout"
        }
      ]
    },
    {
      "cell_type": "code",
      "metadata": {
        "id": "qfm0imgi-8AC",
        "colab": {
          "base_uri": "https://localhost:8080/"
        },
        "outputId": "259a56e2-1340-4e3a-d666-fc7db0971a17"
      },
      "source": [
        "!pip install konlpy"
      ],
      "execution_count": null,
      "outputs": [
        {
          "output_type": "stream",
          "text": [
            "Collecting konlpy\n",
            "  Downloading konlpy-0.5.2-py2.py3-none-any.whl (19.4 MB)\n",
            "\u001b[K     |████████████████████████████████| 19.4 MB 1.3 MB/s \n",
            "\u001b[?25hRequirement already satisfied: lxml>=4.1.0 in /usr/local/lib/python3.7/dist-packages (from konlpy) (4.2.6)\n",
            "Collecting beautifulsoup4==4.6.0\n",
            "  Downloading beautifulsoup4-4.6.0-py3-none-any.whl (86 kB)\n",
            "\u001b[K     |████████████████████████████████| 86 kB 6.3 MB/s \n",
            "\u001b[?25hCollecting JPype1>=0.7.0\n",
            "  Downloading JPype1-1.3.0-cp37-cp37m-manylinux_2_5_x86_64.manylinux1_x86_64.whl (448 kB)\n",
            "\u001b[K     |████████████████████████████████| 448 kB 55.7 MB/s \n",
            "\u001b[?25hCollecting colorama\n",
            "  Downloading colorama-0.4.4-py2.py3-none-any.whl (16 kB)\n",
            "Requirement already satisfied: tweepy>=3.7.0 in /usr/local/lib/python3.7/dist-packages (from konlpy) (3.10.0)\n",
            "Requirement already satisfied: numpy>=1.6 in /usr/local/lib/python3.7/dist-packages (from konlpy) (1.19.5)\n",
            "Requirement already satisfied: typing-extensions in /usr/local/lib/python3.7/dist-packages (from JPype1>=0.7.0->konlpy) (3.7.4.3)\n",
            "Requirement already satisfied: six>=1.10.0 in /usr/local/lib/python3.7/dist-packages (from tweepy>=3.7.0->konlpy) (1.15.0)\n",
            "Requirement already satisfied: requests-oauthlib>=0.7.0 in /usr/local/lib/python3.7/dist-packages (from tweepy>=3.7.0->konlpy) (1.3.0)\n",
            "Requirement already satisfied: requests[socks]>=2.11.1 in /usr/local/lib/python3.7/dist-packages (from tweepy>=3.7.0->konlpy) (2.23.0)\n",
            "Requirement already satisfied: oauthlib>=3.0.0 in /usr/local/lib/python3.7/dist-packages (from requests-oauthlib>=0.7.0->tweepy>=3.7.0->konlpy) (3.1.1)\n",
            "Requirement already satisfied: certifi>=2017.4.17 in /usr/local/lib/python3.7/dist-packages (from requests[socks]>=2.11.1->tweepy>=3.7.0->konlpy) (2021.5.30)\n",
            "Requirement already satisfied: chardet<4,>=3.0.2 in /usr/local/lib/python3.7/dist-packages (from requests[socks]>=2.11.1->tweepy>=3.7.0->konlpy) (3.0.4)\n",
            "Requirement already satisfied: urllib3!=1.25.0,!=1.25.1,<1.26,>=1.21.1 in /usr/local/lib/python3.7/dist-packages (from requests[socks]>=2.11.1->tweepy>=3.7.0->konlpy) (1.24.3)\n",
            "Requirement already satisfied: idna<3,>=2.5 in /usr/local/lib/python3.7/dist-packages (from requests[socks]>=2.11.1->tweepy>=3.7.0->konlpy) (2.10)\n",
            "Requirement already satisfied: PySocks!=1.5.7,>=1.5.6 in /usr/local/lib/python3.7/dist-packages (from requests[socks]>=2.11.1->tweepy>=3.7.0->konlpy) (1.7.1)\n",
            "Installing collected packages: JPype1, colorama, beautifulsoup4, konlpy\n",
            "  Attempting uninstall: beautifulsoup4\n",
            "    Found existing installation: beautifulsoup4 4.6.3\n",
            "    Uninstalling beautifulsoup4-4.6.3:\n",
            "      Successfully uninstalled beautifulsoup4-4.6.3\n",
            "Successfully installed JPype1-1.3.0 beautifulsoup4-4.6.0 colorama-0.4.4 konlpy-0.5.2\n"
          ],
          "name": "stdout"
        }
      ]
    },
    {
      "cell_type": "code",
      "metadata": {
        "id": "uCNz021iASvj"
      },
      "source": [
        "import pandas as pd\n",
        "import numpy as np\n",
        "import re\n",
        "\n",
        "import konlpy\n",
        "from konlpy.tag import Okt\n",
        "\n",
        "from pprint import pprint\n",
        "import nltk\n",
        "\n",
        "from tensorflow.keras import models\n",
        "from tensorflow.keras import layers\n",
        "from tensorflow.keras import optimizers\n",
        "from tensorflow.keras import losses\n",
        "from tensorflow.keras import metrics\n",
        "\n",
        "import json\n",
        "import os\n",
        "\n",
        "okt = Okt()\n",
        "\n",
        "# 리뷰 데이터 \n",
        "# g_rv : 게임 리뷰 데이터\n",
        "# m_rv : 영화 레뷰 데이터(txt파일이기 때문에 \\t를 기준으로 나눔)\n",
        "\n",
        "# g_rv = pd.read_csv('/content/gdrive/My Drive/text_/Nexon_Assignment/game_rv.csv')\n",
        "# m_rv = pd.read_csv('/content/gdrive/My Drive/text_/Nexon_Assignment/movie_rv.txt', delimiter='\\t')"
      ],
      "execution_count": null,
      "outputs": []
    },
    {
      "cell_type": "code",
      "metadata": {
        "colab": {
          "base_uri": "https://localhost:8080/",
          "height": 197
        },
        "id": "3aqFiMByAZ01",
        "outputId": "bbb5f47b-a6eb-4602-9357-29627c1bc731"
      },
      "source": [
        "# 게임 리뷰 데이터 형태와 차수 조회\n",
        "g_rv.head()"
      ],
      "execution_count": null,
      "outputs": [
        {
          "output_type": "execute_result",
          "data": {
            "text/html": [
              "<div>\n",
              "<style scoped>\n",
              "    .dataframe tbody tr th:only-of-type {\n",
              "        vertical-align: middle;\n",
              "    }\n",
              "\n",
              "    .dataframe tbody tr th {\n",
              "        vertical-align: top;\n",
              "    }\n",
              "\n",
              "    .dataframe thead th {\n",
              "        text-align: right;\n",
              "    }\n",
              "</style>\n",
              "<table border=\"1\" class=\"dataframe\">\n",
              "  <thead>\n",
              "    <tr style=\"text-align: right;\">\n",
              "      <th></th>\n",
              "      <th>Unnamed: 0</th>\n",
              "      <th>Unnamed: 0.1</th>\n",
              "      <th>txt</th>\n",
              "      <th>label</th>\n",
              "    </tr>\n",
              "  </thead>\n",
              "  <tbody>\n",
              "    <tr>\n",
              "      <th>0</th>\n",
              "      <td>0</td>\n",
              "      <td>0</td>\n",
              "      <td>겁나 튕깁니다 혹시 해결법아시는분 계신가요</td>\n",
              "      <td>NaN</td>\n",
              "    </tr>\n",
              "    <tr>\n",
              "      <th>1</th>\n",
              "      <td>1</td>\n",
              "      <td>1</td>\n",
              "      <td>원기야 더시드 좀 바꿔라</td>\n",
              "      <td>NaN</td>\n",
              "    </tr>\n",
              "    <tr>\n",
              "      <th>2</th>\n",
              "      <td>2</td>\n",
              "      <td>2</td>\n",
              "      <td>1채널 헤네시스 '아잉' 점령완료</td>\n",
              "      <td>NaN</td>\n",
              "    </tr>\n",
              "    <tr>\n",
              "      <th>3</th>\n",
              "      <td>3</td>\n",
              "      <td>3</td>\n",
              "      <td>몬스터 파크 신비의숲 아르카나 나와 주세요</td>\n",
              "      <td>NaN</td>\n",
              "    </tr>\n",
              "    <tr>\n",
              "      <th>4</th>\n",
              "      <td>4</td>\n",
              "      <td>4</td>\n",
              "      <td>팬텀 100랩 퀘스트</td>\n",
              "      <td>NaN</td>\n",
              "    </tr>\n",
              "  </tbody>\n",
              "</table>\n",
              "</div>"
            ],
            "text/plain": [
              "   Unnamed: 0  Unnamed: 0.1                      txt  label\n",
              "0           0             0  겁나 튕깁니다 혹시 해결법아시는분 계신가요    NaN\n",
              "1           1             1            원기야 더시드 좀 바꿔라    NaN\n",
              "2           2             2       1채널 헤네시스 '아잉' 점령완료    NaN\n",
              "3           3             3  몬스터 파크 신비의숲 아르카나 나와 주세요    NaN\n",
              "4           4             4              팬텀 100랩 퀘스트    NaN"
            ]
          },
          "metadata": {
            "tags": []
          },
          "execution_count": 6
        }
      ]
    },
    {
      "cell_type": "code",
      "metadata": {
        "id": "MC4TJK9IAnL8"
      },
      "source": [
        "# 리뷰 내용과 label만 남긴다\n",
        "# 게임 리뷰를 0으로 labeling 한다.\n",
        "\n",
        "del g_rv['Unnamed: 0']\n",
        "del g_rv['Unnamed: 0.1']\n",
        "g_rv['label']=0"
      ],
      "execution_count": null,
      "outputs": []
    },
    {
      "cell_type": "code",
      "metadata": {
        "colab": {
          "base_uri": "https://localhost:8080/",
          "height": 197
        },
        "id": "ukUKs8JnAqxG",
        "outputId": "8ab6bae4-3c12-46a6-94be-b849092895bd"
      },
      "source": [
        "# 영화 리뷰 데이터 형태와 차수 조회\n",
        "m_rv.head()"
      ],
      "execution_count": null,
      "outputs": [
        {
          "output_type": "execute_result",
          "data": {
            "text/html": [
              "<div>\n",
              "<style scoped>\n",
              "    .dataframe tbody tr th:only-of-type {\n",
              "        vertical-align: middle;\n",
              "    }\n",
              "\n",
              "    .dataframe tbody tr th {\n",
              "        vertical-align: top;\n",
              "    }\n",
              "\n",
              "    .dataframe thead th {\n",
              "        text-align: right;\n",
              "    }\n",
              "</style>\n",
              "<table border=\"1\" class=\"dataframe\">\n",
              "  <thead>\n",
              "    <tr style=\"text-align: right;\">\n",
              "      <th></th>\n",
              "      <th>id</th>\n",
              "      <th>document</th>\n",
              "      <th>label</th>\n",
              "    </tr>\n",
              "  </thead>\n",
              "  <tbody>\n",
              "    <tr>\n",
              "      <th>0</th>\n",
              "      <td>6270596</td>\n",
              "      <td>굳 ㅋ</td>\n",
              "      <td>1</td>\n",
              "    </tr>\n",
              "    <tr>\n",
              "      <th>1</th>\n",
              "      <td>9274899</td>\n",
              "      <td>GDNTOPCLASSINTHECLUB</td>\n",
              "      <td>0</td>\n",
              "    </tr>\n",
              "    <tr>\n",
              "      <th>2</th>\n",
              "      <td>8544678</td>\n",
              "      <td>뭐야 이 평점들은.... 나쁘진 않지만 10점 짜리는 더더욱 아니잖아</td>\n",
              "      <td>0</td>\n",
              "    </tr>\n",
              "    <tr>\n",
              "      <th>3</th>\n",
              "      <td>6825595</td>\n",
              "      <td>지루하지는 않은데 완전 막장임... 돈주고 보기에는....</td>\n",
              "      <td>0</td>\n",
              "    </tr>\n",
              "    <tr>\n",
              "      <th>4</th>\n",
              "      <td>6723715</td>\n",
              "      <td>3D만 아니었어도 별 다섯 개 줬을텐데.. 왜 3D로 나와서 제 심기를 불편하게 하죠??</td>\n",
              "      <td>0</td>\n",
              "    </tr>\n",
              "  </tbody>\n",
              "</table>\n",
              "</div>"
            ],
            "text/plain": [
              "        id                                           document  label\n",
              "0  6270596                                                굳 ㅋ      1\n",
              "1  9274899                               GDNTOPCLASSINTHECLUB      0\n",
              "2  8544678             뭐야 이 평점들은.... 나쁘진 않지만 10점 짜리는 더더욱 아니잖아      0\n",
              "3  6825595                   지루하지는 않은데 완전 막장임... 돈주고 보기에는....      0\n",
              "4  6723715  3D만 아니었어도 별 다섯 개 줬을텐데.. 왜 3D로 나와서 제 심기를 불편하게 하죠??      0"
            ]
          },
          "metadata": {
            "tags": []
          },
          "execution_count": 8
        }
      ]
    },
    {
      "cell_type": "code",
      "metadata": {
        "id": "WK6KgHi4AsZs"
      },
      "source": [
        "# 50000개에서 20000개로 축소\n",
        "# 리뷰 내용과 label만 남긴다.\n",
        "# 영화 리뷰를 1으로 labeling 한다.\n",
        "\n",
        "m_rv = m_rv[0:20000]\n",
        "del m_rv['id']\n",
        "m_rv.rename(columns={'document':'txt'}, inplace=True)\n",
        "m_rv['label']=1"
      ],
      "execution_count": null,
      "outputs": []
    },
    {
      "cell_type": "code",
      "metadata": {
        "colab": {
          "base_uri": "https://localhost:8080/",
          "height": 197
        },
        "id": "gbZ58kAuAt3M",
        "outputId": "27957768-e0c3-4250-ac0c-8118dc6ed7b0"
      },
      "source": [
        "# 영화 리뷰 데이터 형태와 차수 조회\n",
        "m_rv.head()"
      ],
      "execution_count": null,
      "outputs": [
        {
          "output_type": "execute_result",
          "data": {
            "text/html": [
              "<div>\n",
              "<style scoped>\n",
              "    .dataframe tbody tr th:only-of-type {\n",
              "        vertical-align: middle;\n",
              "    }\n",
              "\n",
              "    .dataframe tbody tr th {\n",
              "        vertical-align: top;\n",
              "    }\n",
              "\n",
              "    .dataframe thead th {\n",
              "        text-align: right;\n",
              "    }\n",
              "</style>\n",
              "<table border=\"1\" class=\"dataframe\">\n",
              "  <thead>\n",
              "    <tr style=\"text-align: right;\">\n",
              "      <th></th>\n",
              "      <th>txt</th>\n",
              "      <th>label</th>\n",
              "    </tr>\n",
              "  </thead>\n",
              "  <tbody>\n",
              "    <tr>\n",
              "      <th>0</th>\n",
              "      <td>굳 ㅋ</td>\n",
              "      <td>1</td>\n",
              "    </tr>\n",
              "    <tr>\n",
              "      <th>1</th>\n",
              "      <td>GDNTOPCLASSINTHECLUB</td>\n",
              "      <td>1</td>\n",
              "    </tr>\n",
              "    <tr>\n",
              "      <th>2</th>\n",
              "      <td>뭐야 이 평점들은.... 나쁘진 않지만 10점 짜리는 더더욱 아니잖아</td>\n",
              "      <td>1</td>\n",
              "    </tr>\n",
              "    <tr>\n",
              "      <th>3</th>\n",
              "      <td>지루하지는 않은데 완전 막장임... 돈주고 보기에는....</td>\n",
              "      <td>1</td>\n",
              "    </tr>\n",
              "    <tr>\n",
              "      <th>4</th>\n",
              "      <td>3D만 아니었어도 별 다섯 개 줬을텐데.. 왜 3D로 나와서 제 심기를 불편하게 하죠??</td>\n",
              "      <td>1</td>\n",
              "    </tr>\n",
              "  </tbody>\n",
              "</table>\n",
              "</div>"
            ],
            "text/plain": [
              "                                                 txt  label\n",
              "0                                                굳 ㅋ      1\n",
              "1                               GDNTOPCLASSINTHECLUB      1\n",
              "2             뭐야 이 평점들은.... 나쁘진 않지만 10점 짜리는 더더욱 아니잖아      1\n",
              "3                   지루하지는 않은데 완전 막장임... 돈주고 보기에는....      1\n",
              "4  3D만 아니었어도 별 다섯 개 줬을텐데.. 왜 3D로 나와서 제 심기를 불편하게 하죠??      1"
            ]
          },
          "metadata": {
            "tags": []
          },
          "execution_count": 10
        }
      ]
    },
    {
      "cell_type": "code",
      "metadata": {
        "id": "9tMMF0_HAxps"
      },
      "source": [
        "# 게임 및 영화 데이터를 병합하여 준다.\n",
        "# index를 순서대로 재배열 하기 위해 ignore_index=True를 사용한다.\n",
        "\n",
        "rv_train = pd.concat([g_rv, m_rv], ignore_index=True)"
      ],
      "execution_count": null,
      "outputs": []
    },
    {
      "cell_type": "code",
      "metadata": {
        "colab": {
          "base_uri": "https://localhost:8080/",
          "height": 197
        },
        "id": "WDKUYb-wAztn",
        "outputId": "29ac4c50-fa01-4135-bb00-4932bd84c87f"
      },
      "source": [
        "rv_train.head()"
      ],
      "execution_count": null,
      "outputs": [
        {
          "output_type": "execute_result",
          "data": {
            "text/html": [
              "<div>\n",
              "<style scoped>\n",
              "    .dataframe tbody tr th:only-of-type {\n",
              "        vertical-align: middle;\n",
              "    }\n",
              "\n",
              "    .dataframe tbody tr th {\n",
              "        vertical-align: top;\n",
              "    }\n",
              "\n",
              "    .dataframe thead th {\n",
              "        text-align: right;\n",
              "    }\n",
              "</style>\n",
              "<table border=\"1\" class=\"dataframe\">\n",
              "  <thead>\n",
              "    <tr style=\"text-align: right;\">\n",
              "      <th></th>\n",
              "      <th>txt</th>\n",
              "      <th>label</th>\n",
              "    </tr>\n",
              "  </thead>\n",
              "  <tbody>\n",
              "    <tr>\n",
              "      <th>0</th>\n",
              "      <td>겁나 튕깁니다 혹시 해결법아시는분 계신가요</td>\n",
              "      <td>0</td>\n",
              "    </tr>\n",
              "    <tr>\n",
              "      <th>1</th>\n",
              "      <td>원기야 더시드 좀 바꿔라</td>\n",
              "      <td>0</td>\n",
              "    </tr>\n",
              "    <tr>\n",
              "      <th>2</th>\n",
              "      <td>1채널 헤네시스 '아잉' 점령완료</td>\n",
              "      <td>0</td>\n",
              "    </tr>\n",
              "    <tr>\n",
              "      <th>3</th>\n",
              "      <td>몬스터 파크 신비의숲 아르카나 나와 주세요</td>\n",
              "      <td>0</td>\n",
              "    </tr>\n",
              "    <tr>\n",
              "      <th>4</th>\n",
              "      <td>팬텀 100랩 퀘스트</td>\n",
              "      <td>0</td>\n",
              "    </tr>\n",
              "  </tbody>\n",
              "</table>\n",
              "</div>"
            ],
            "text/plain": [
              "                       txt  label\n",
              "0  겁나 튕깁니다 혹시 해결법아시는분 계신가요      0\n",
              "1            원기야 더시드 좀 바꿔라      0\n",
              "2       1채널 헤네시스 '아잉' 점령완료      0\n",
              "3  몬스터 파크 신비의숲 아르카나 나와 주세요      0\n",
              "4              팬텀 100랩 퀘스트      0"
            ]
          },
          "metadata": {
            "tags": []
          },
          "execution_count": 12
        }
      ]
    },
    {
      "cell_type": "markdown",
      "metadata": {
        "id": "-eWXfeUSA81-"
      },
      "source": [
        "## **DateSet을 test data로 호출**"
      ]
    },
    {
      "cell_type": "code",
      "metadata": {
        "id": "mnsrSYFaA1zL"
      },
      "source": [
        "rv_test = pd.read_csv('/content/gdrive/My Drive/text_/Nexon_Assignment/dataset.csv')"
      ],
      "execution_count": null,
      "outputs": []
    },
    {
      "cell_type": "code",
      "metadata": {
        "colab": {
          "base_uri": "https://localhost:8080/",
          "height": 197
        },
        "id": "BCk_4OJFBErn",
        "outputId": "49a623cd-2ad3-4783-9e0b-c5c2c0ecd027"
      },
      "source": [
        "rv_test.head()"
      ],
      "execution_count": null,
      "outputs": [
        {
          "output_type": "execute_result",
          "data": {
            "text/html": [
              "<div>\n",
              "<style scoped>\n",
              "    .dataframe tbody tr th:only-of-type {\n",
              "        vertical-align: middle;\n",
              "    }\n",
              "\n",
              "    .dataframe tbody tr th {\n",
              "        vertical-align: top;\n",
              "    }\n",
              "\n",
              "    .dataframe thead th {\n",
              "        text-align: right;\n",
              "    }\n",
              "</style>\n",
              "<table border=\"1\" class=\"dataframe\">\n",
              "  <thead>\n",
              "    <tr style=\"text-align: right;\">\n",
              "      <th></th>\n",
              "      <th>index</th>\n",
              "      <th>txt</th>\n",
              "    </tr>\n",
              "  </thead>\n",
              "  <tbody>\n",
              "    <tr>\n",
              "      <th>0</th>\n",
              "      <td>0</td>\n",
              "      <td>엘리시움 배리 개쩜;;</td>\n",
              "    </tr>\n",
              "    <tr>\n",
              "      <th>1</th>\n",
              "      <td>1</td>\n",
              "      <td>◑업ㄷㅔㅇㅣ트㈍rㄹr고 ㄱㅔ임에서뜨는데 없뎃할ㄹㅏ고해도◑업뎃ㅇㅏ 안ㄸㅓ요</td>\n",
              "    </tr>\n",
              "    <tr>\n",
              "      <th>2</th>\n",
              "      <td>2</td>\n",
              "      <td>요샌 네이버 평점도 믿을게 못되는군. 행동거지가 예측이될정도니 한심하고. 온갖 바보...</td>\n",
              "    </tr>\n",
              "    <tr>\n",
              "      <th>3</th>\n",
              "      <td>3</td>\n",
              "      <td>갑자기 0x10030008 이라고뜨고 원격호스트종료 나오며 로그인이되질 않습니다. ...</td>\n",
              "    </tr>\n",
              "    <tr>\n",
              "      <th>4</th>\n",
              "      <td>4</td>\n",
              "      <td>공포 코미디 영화 보다가 웃기는 처음이다 이 새벽에</td>\n",
              "    </tr>\n",
              "  </tbody>\n",
              "</table>\n",
              "</div>"
            ],
            "text/plain": [
              "   index                                                txt\n",
              "0      0                                       엘리시움 배리 개쩜;;\n",
              "1      1           ◑업ㄷㅔㅇㅣ트㈍rㄹr고 ㄱㅔ임에서뜨는데 없뎃할ㄹㅏ고해도◑업뎃ㅇㅏ 안ㄸㅓ요\n",
              "2      2  요샌 네이버 평점도 믿을게 못되는군. 행동거지가 예측이될정도니 한심하고. 온갖 바보...\n",
              "3      3  갑자기 0x10030008 이라고뜨고 원격호스트종료 나오며 로그인이되질 않습니다. ...\n",
              "4      4                       공포 코미디 영화 보다가 웃기는 처음이다 이 새벽에"
            ]
          },
          "metadata": {
            "tags": []
          },
          "execution_count": 14
        }
      ]
    },
    {
      "cell_type": "code",
      "metadata": {
        "id": "3nhR9AVWBGah"
      },
      "source": [
        "# train 데이터와 형태가 동일하게 dataframe 변경\n",
        "# index column 삭제\n",
        "# label column 추가\n",
        "# label은 Nan값으로 준다.\n",
        "\n",
        "rv_test = pd.DataFrame({'txt':rv_test['txt'], 'label':None})"
      ],
      "execution_count": null,
      "outputs": []
    },
    {
      "cell_type": "code",
      "metadata": {
        "colab": {
          "base_uri": "https://localhost:8080/",
          "height": 197
        },
        "id": "ZqCyCGpIBLhu",
        "outputId": "b708fc8d-5248-4418-e44e-0c258da99f42"
      },
      "source": [
        "rv_test.head()"
      ],
      "execution_count": null,
      "outputs": [
        {
          "output_type": "execute_result",
          "data": {
            "text/html": [
              "<div>\n",
              "<style scoped>\n",
              "    .dataframe tbody tr th:only-of-type {\n",
              "        vertical-align: middle;\n",
              "    }\n",
              "\n",
              "    .dataframe tbody tr th {\n",
              "        vertical-align: top;\n",
              "    }\n",
              "\n",
              "    .dataframe thead th {\n",
              "        text-align: right;\n",
              "    }\n",
              "</style>\n",
              "<table border=\"1\" class=\"dataframe\">\n",
              "  <thead>\n",
              "    <tr style=\"text-align: right;\">\n",
              "      <th></th>\n",
              "      <th>txt</th>\n",
              "      <th>label</th>\n",
              "    </tr>\n",
              "  </thead>\n",
              "  <tbody>\n",
              "    <tr>\n",
              "      <th>0</th>\n",
              "      <td>엘리시움 배리 개쩜;;</td>\n",
              "      <td>None</td>\n",
              "    </tr>\n",
              "    <tr>\n",
              "      <th>1</th>\n",
              "      <td>◑업ㄷㅔㅇㅣ트㈍rㄹr고 ㄱㅔ임에서뜨는데 없뎃할ㄹㅏ고해도◑업뎃ㅇㅏ 안ㄸㅓ요</td>\n",
              "      <td>None</td>\n",
              "    </tr>\n",
              "    <tr>\n",
              "      <th>2</th>\n",
              "      <td>요샌 네이버 평점도 믿을게 못되는군. 행동거지가 예측이될정도니 한심하고. 온갖 바보...</td>\n",
              "      <td>None</td>\n",
              "    </tr>\n",
              "    <tr>\n",
              "      <th>3</th>\n",
              "      <td>갑자기 0x10030008 이라고뜨고 원격호스트종료 나오며 로그인이되질 않습니다. ...</td>\n",
              "      <td>None</td>\n",
              "    </tr>\n",
              "    <tr>\n",
              "      <th>4</th>\n",
              "      <td>공포 코미디 영화 보다가 웃기는 처음이다 이 새벽에</td>\n",
              "      <td>None</td>\n",
              "    </tr>\n",
              "  </tbody>\n",
              "</table>\n",
              "</div>"
            ],
            "text/plain": [
              "                                                 txt label\n",
              "0                                       엘리시움 배리 개쩜;;  None\n",
              "1           ◑업ㄷㅔㅇㅣ트㈍rㄹr고 ㄱㅔ임에서뜨는데 없뎃할ㄹㅏ고해도◑업뎃ㅇㅏ 안ㄸㅓ요  None\n",
              "2  요샌 네이버 평점도 믿을게 못되는군. 행동거지가 예측이될정도니 한심하고. 온갖 바보...  None\n",
              "3  갑자기 0x10030008 이라고뜨고 원격호스트종료 나오며 로그인이되질 않습니다. ...  None\n",
              "4                       공포 코미디 영화 보다가 웃기는 처음이다 이 새벽에  None"
            ]
          },
          "metadata": {
            "tags": []
          },
          "execution_count": 16
        }
      ]
    },
    {
      "cell_type": "markdown",
      "metadata": {
        "id": "x1aAa6LlCS4u"
      },
      "source": [
        "## konlpy를 사용한 전처리"
      ]
    },
    {
      "cell_type": "code",
      "metadata": {
        "colab": {
          "base_uri": "https://localhost:8080/"
        },
        "id": "5sf7CdBGI97K",
        "outputId": "cd032c2a-9f90-40b4-8d03-bcc4237e33ba"
      },
      "source": [
        "# 정규표현식을 사용해 한글만 남기기\n",
        "\n",
        "def regur(dataset):\n",
        "  for i in range(len(dataset)):\n",
        "    if type(dataset['txt'][i])==str: \n",
        "      convert = re.compile('[가-힣]+').findall(dataset['txt'][i])\n",
        "      dataset['txt'][i] = ' '.join(convert)\n",
        "\n",
        "regur(rv_train)\n",
        "regur(rv_test)"
      ],
      "execution_count": null,
      "outputs": [
        {
          "output_type": "stream",
          "text": [
            "/usr/local/lib/python3.6/dist-packages/ipykernel_launcher.py:7: SettingWithCopyWarning: \n",
            "A value is trying to be set on a copy of a slice from a DataFrame\n",
            "\n",
            "See the caveats in the documentation: https://pandas.pydata.org/pandas-docs/stable/user_guide/indexing.html#returning-a-view-versus-a-copy\n",
            "  import sys\n"
          ],
          "name": "stderr"
        }
      ]
    },
    {
      "cell_type": "code",
      "metadata": {
        "colab": {
          "base_uri": "https://localhost:8080/",
          "height": 197
        },
        "id": "stCnpcCdKCmU",
        "outputId": "bd97ec5e-d55d-469d-980c-72394f9e2950"
      },
      "source": [
        "rv_train.head()"
      ],
      "execution_count": null,
      "outputs": [
        {
          "output_type": "execute_result",
          "data": {
            "text/html": [
              "<div>\n",
              "<style scoped>\n",
              "    .dataframe tbody tr th:only-of-type {\n",
              "        vertical-align: middle;\n",
              "    }\n",
              "\n",
              "    .dataframe tbody tr th {\n",
              "        vertical-align: top;\n",
              "    }\n",
              "\n",
              "    .dataframe thead th {\n",
              "        text-align: right;\n",
              "    }\n",
              "</style>\n",
              "<table border=\"1\" class=\"dataframe\">\n",
              "  <thead>\n",
              "    <tr style=\"text-align: right;\">\n",
              "      <th></th>\n",
              "      <th>txt</th>\n",
              "      <th>label</th>\n",
              "    </tr>\n",
              "  </thead>\n",
              "  <tbody>\n",
              "    <tr>\n",
              "      <th>0</th>\n",
              "      <td>겁나 튕깁니다 혹시 해결법아시는분 계신가요</td>\n",
              "      <td>0</td>\n",
              "    </tr>\n",
              "    <tr>\n",
              "      <th>1</th>\n",
              "      <td>원기야 더시드 좀 바꿔라</td>\n",
              "      <td>0</td>\n",
              "    </tr>\n",
              "    <tr>\n",
              "      <th>2</th>\n",
              "      <td>채널 헤네시스 아잉 점령완료</td>\n",
              "      <td>0</td>\n",
              "    </tr>\n",
              "    <tr>\n",
              "      <th>3</th>\n",
              "      <td>몬스터 파크 신비의숲 아르카나 나와 주세요</td>\n",
              "      <td>0</td>\n",
              "    </tr>\n",
              "    <tr>\n",
              "      <th>4</th>\n",
              "      <td>팬텀 랩 퀘스트</td>\n",
              "      <td>0</td>\n",
              "    </tr>\n",
              "  </tbody>\n",
              "</table>\n",
              "</div>"
            ],
            "text/plain": [
              "                       txt  label\n",
              "0  겁나 튕깁니다 혹시 해결법아시는분 계신가요      0\n",
              "1            원기야 더시드 좀 바꿔라      0\n",
              "2          채널 헤네시스 아잉 점령완료      0\n",
              "3  몬스터 파크 신비의숲 아르카나 나와 주세요      0\n",
              "4                 팬텀 랩 퀘스트      0"
            ]
          },
          "metadata": {
            "tags": []
          },
          "execution_count": 40
        }
      ]
    },
    {
      "cell_type": "code",
      "metadata": {
        "id": "ubGC2l3NCSVg"
      },
      "source": [
        "# konlpy에 적용하기 위해 dataframe에서 list형식으로 바꾸어준다.\n",
        "\n",
        "train_list = rv_train.values.tolist()\n",
        "test_list = rv_test.values.tolist()"
      ],
      "execution_count": null,
      "outputs": []
    },
    {
      "cell_type": "code",
      "metadata": {
        "colab": {
          "base_uri": "https://localhost:8080/"
        },
        "id": "C4FcFEMWEIFI",
        "outputId": "7c86e444-2194-4fef-cbae-d518e7ddf05f"
      },
      "source": [
        "# list로 변환한 파일 확인\n",
        "\n",
        "print(len(train_list[0]))\n",
        "print(len(test_list[0]))\n",
        "print(len(train_list))\n",
        "print(len(test_list))"
      ],
      "execution_count": null,
      "outputs": [
        {
          "output_type": "stream",
          "text": [
            "2\n",
            "2\n",
            "40000\n",
            "10000\n"
          ],
          "name": "stdout"
        }
      ]
    },
    {
      "cell_type": "code",
      "metadata": {
        "id": "HqGZCFW1Qzcz"
      },
      "source": [
        "# 결측값 처리\n",
        "def del_none(dataset):\n",
        "  for i in range(len(dataset)):\n",
        "    if type(dataset[i][0])!=str:\n",
        "      dataset[i][0]=''\n",
        "\n",
        "del_none(train_list)\n",
        "del_none(test_list)"
      ],
      "execution_count": null,
      "outputs": []
    },
    {
      "cell_type": "code",
      "metadata": {
        "id": "Yd1CwkEHEXYr"
      },
      "source": [
        "# konlpy의 okt 라이브러리를 통해 정규화 메소드 정의\n",
        "\n",
        "def tokenize(doc):\n",
        "    # norm은 정규화, stem은 근어로 표시하기를 나타냄\n",
        "    return ['/'.join(t) for t in okt.pos(doc, norm=True, stem=True)]"
      ],
      "execution_count": null,
      "outputs": []
    },
    {
      "cell_type": "code",
      "metadata": {
        "id": "tR1ZKJtuE3O9"
      },
      "source": [
        "train_docu = [(tokenize(row[0]), row[1]) for row in train_list]\n",
        "test_docu = [(tokenize(row[0]), row[1]) for row in test_list]\n",
        "\n",
        "with open('/content/gdrive/My Drive/train.json', 'w', encoding='utf-8') as make_file:\n",
        "  json.dump(train_docu, make_file, ensure_ascii=False, indent='\\t')\n",
        "# with open('test.json', 'w', encoding='utf-8') as make_file:\n",
        "#   json.dump(test_docu, make_file, ensure_ascii=False, indent='\\t')\n",
        "\n",
        "\n"
      ],
      "execution_count": null,
      "outputs": []
    },
    {
      "cell_type": "code",
      "metadata": {
        "id": "TYTsivigbCC4"
      },
      "source": [
        ""
      ],
      "execution_count": null,
      "outputs": []
    },
    {
      "cell_type": "code",
      "metadata": {
        "id": "pzjSDY4gQOgE"
      },
      "source": [
        "tokens = [t for d in train_docu for t in d[0]]"
      ],
      "execution_count": null,
      "outputs": []
    },
    {
      "cell_type": "code",
      "metadata": {
        "colab": {
          "base_uri": "https://localhost:8080/"
        },
        "id": "-vWDPbMcWzka",
        "outputId": "c1172411-f3c9-4911-b210-d8b384b6dc4a"
      },
      "source": [
        "train_list[0:10]"
      ],
      "execution_count": null,
      "outputs": [
        {
          "output_type": "execute_result",
          "data": {
            "text/plain": [
              "[['겁나 튕깁니다 혹시 해결법아시는분 계신가요', 0],\n",
              " ['원기야 더시드 좀 바꿔라', 0],\n",
              " ['채널 헤네시스 아잉 점령완료', 0],\n",
              " ['몬스터 파크 신비의숲 아르카나 나와 주세요', 0],\n",
              " ['팬텀 랩 퀘스트', 0],\n",
              " ['스틸좀하지마세용 송파구길마님', 0],\n",
              " ['모험가 직업의눈물', 0],\n",
              " ['이겜은 신기한게', 0],\n",
              " ['민사하시면 안되요', 0],\n",
              " ['도움말때문에 이상해졌어요', 0]]"
            ]
          },
          "metadata": {
            "tags": []
          },
          "execution_count": 101
        }
      ]
    },
    {
      "cell_type": "code",
      "metadata": {
        "colab": {
          "base_uri": "https://localhost:8080/"
        },
        "id": "9YlKZl8mW2zi",
        "outputId": "6e330f65-bd43-479b-a742-832705ee7c9e"
      },
      "source": [
        "# nltk.text(tokens)\n",
        "\n",
        "print(len(set(tokens)))"
      ],
      "execution_count": null,
      "outputs": [
        {
          "output_type": "stream",
          "text": [
            "19417\n"
          ],
          "name": "stdout"
        }
      ]
    },
    {
      "cell_type": "code",
      "metadata": {
        "colab": {
          "base_uri": "https://localhost:8080/"
        },
        "id": "nuR9kxFwYnha",
        "outputId": "fe2a205c-b065-4903-e7c9-2fdb090d6f41"
      },
      "source": [
        "text = nltk.Text(tokens, name='리뷰데이터')\n",
        "\n",
        "pprint(text.vocab().most_common(10))"
      ],
      "execution_count": null,
      "outputs": [
        {
          "output_type": "stream",
          "text": [
            "[('하다/Verb', 9036),\n",
            " ('이/Josa', 7655),\n",
            " ('영화/Noun', 6970),\n",
            " ('에/Josa', 6092),\n",
            " ('보다/Verb', 5887),\n",
            " ('의/Josa', 4225),\n",
            " ('들/Suffix', 4050),\n",
            " ('가/Josa', 3915),\n",
            " ('을/Josa', 3664),\n",
            " ('도/Josa', 2908)]\n"
          ],
          "name": "stdout"
        }
      ]
    },
    {
      "cell_type": "code",
      "metadata": {
        "id": "gmlgmTkvY2W4"
      },
      "source": [
        "selected_words = [f[0] for f in text.vocab().most_common(10000)]\n",
        "\n",
        "def term_frequency(doc):\n",
        "    return [doc.count(word) for word in selected_words]\n",
        "\n",
        "train_x = [term_frequency(d) for d, _ in train_docu]\n",
        "test_x = [term_frequency(d) for d, _ in test_docu]\n",
        "train_y = [c for _, c in train_docu]\n",
        "test_y = [c for _, c in test_docu]"
      ],
      "execution_count": null,
      "outputs": []
    },
    {
      "cell_type": "code",
      "metadata": {
        "colab": {
          "base_uri": "https://localhost:8080/"
        },
        "id": "TouGykIWfvCF",
        "outputId": "e2c87f8f-46dd-46a7-b5e2-05b947790f15"
      },
      "source": [
        "len(test_y)"
      ],
      "execution_count": null,
      "outputs": [
        {
          "output_type": "execute_result",
          "data": {
            "text/plain": [
              "10000"
            ]
          },
          "metadata": {
            "tags": []
          },
          "execution_count": 61
        }
      ]
    },
    {
      "cell_type": "code",
      "metadata": {
        "colab": {
          "base_uri": "https://localhost:8080/"
        },
        "id": "HyDMgQYvhDN7",
        "outputId": "532f2914-3f9e-416b-965d-d86692b32ae0"
      },
      "source": [
        "type(x_train[0])"
      ],
      "execution_count": null,
      "outputs": [
        {
          "output_type": "execute_result",
          "data": {
            "text/plain": [
              "numpy.ndarray"
            ]
          },
          "metadata": {
            "tags": []
          },
          "execution_count": 66
        }
      ]
    },
    {
      "cell_type": "code",
      "metadata": {
        "id": "Mf8-bkXva1Tm"
      },
      "source": [
        "import numpy as np\n",
        "\n",
        "x_train = np.asarray(train_x).astype('float32')\n",
        "x_test = np.asarray(test_x).astype('float32')\n",
        "\n",
        "y_train = np.asarray(train_y).astype('float32')\n",
        "y_test = np.asarray(test_y).astype('float32')"
      ],
      "execution_count": null,
      "outputs": []
    },
    {
      "cell_type": "code",
      "metadata": {
        "colab": {
          "base_uri": "https://localhost:8080/"
        },
        "id": "kG4ne2HYbfgu",
        "outputId": "66d91c03-55b5-4282-d706-546d7a4cacec"
      },
      "source": [
        "x_test"
      ],
      "execution_count": null,
      "outputs": [
        {
          "output_type": "execute_result",
          "data": {
            "text/plain": [
              "array([[0., 0., 0., ..., 0., 0., 0.],\n",
              "       [0., 0., 0., ..., 0., 0., 0.],\n",
              "       [0., 2., 0., ..., 0., 0., 0.],\n",
              "       ...,\n",
              "       [0., 0., 0., ..., 0., 0., 0.],\n",
              "       [0., 0., 0., ..., 0., 0., 0.],\n",
              "       [1., 1., 1., ..., 0., 0., 0.]], dtype=float32)"
            ]
          },
          "metadata": {
            "tags": []
          },
          "execution_count": 43
        }
      ]
    },
    {
      "cell_type": "code",
      "metadata": {
        "colab": {
          "base_uri": "https://localhost:8080/"
        },
        "id": "-yqSJ3Rxbjgw",
        "outputId": "0bb7be0e-73aa-46ee-d917-3b43fb631403"
      },
      "source": [
        "y_test"
      ],
      "execution_count": null,
      "outputs": [
        {
          "output_type": "execute_result",
          "data": {
            "text/plain": [
              "array([nan, nan, nan, ..., nan, nan, nan], dtype=float32)"
            ]
          },
          "metadata": {
            "tags": []
          },
          "execution_count": 44
        }
      ]
    },
    {
      "cell_type": "code",
      "metadata": {
        "id": "SC2pRs9AbjcI"
      },
      "source": [
        ""
      ],
      "execution_count": null,
      "outputs": []
    },
    {
      "cell_type": "code",
      "metadata": {
        "id": "sBZ5RHOBbjZV"
      },
      "source": [
        ""
      ],
      "execution_count": null,
      "outputs": []
    },
    {
      "cell_type": "code",
      "metadata": {
        "id": "PHlvi8xcbjNd"
      },
      "source": [
        ""
      ],
      "execution_count": null,
      "outputs": []
    },
    {
      "cell_type": "code",
      "metadata": {
        "colab": {
          "base_uri": "https://localhost:8080/"
        },
        "id": "NNyFPoh2a3c_",
        "outputId": "f69425ea-291c-477b-a156-6febe952d9f0"
      },
      "source": [
        "from tensorflow.keras import models\n",
        "from tensorflow.keras import layers\n",
        "from tensorflow.keras import optimizers\n",
        "from tensorflow.keras import losses\n",
        "from tensorflow.keras import metrics\n",
        "\n",
        "model = models.Sequential()\n",
        "model.add(layers.Dense(64, activation='relu', input_shape=(10000,)))\n",
        "model.add(layers.Dense(64, activation='relu'))\n",
        "model.add(layers.Dense(1, activation='sigmoid'))\n",
        "\n",
        "model.compile(optimizer=optimizers.RMSprop(lr=0.001),\n",
        "             loss=losses.binary_crossentropy,\n",
        "             metrics=[metrics.binary_accuracy])\n",
        "\n",
        "model.fit(x_train, y_train, epochs=10, batch_size=512)\n",
        "results = model.evaluate(x_test, y_test)"
      ],
      "execution_count": null,
      "outputs": [
        {
          "output_type": "stream",
          "text": [
            "Epoch 1/10\n",
            "79/79 [==============================] - 4s 41ms/step - loss: 0.3944 - binary_accuracy: 0.8777\n",
            "Epoch 2/10\n",
            "79/79 [==============================] - 3s 40ms/step - loss: 0.0749 - binary_accuracy: 0.9695\n",
            "Epoch 3/10\n",
            "79/79 [==============================] - 9s 120ms/step - loss: 0.0594 - binary_accuracy: 0.9748\n",
            "Epoch 4/10\n",
            "79/79 [==============================] - 3s 41ms/step - loss: 0.0470 - binary_accuracy: 0.9795\n",
            "Epoch 5/10\n",
            "79/79 [==============================] - 3s 41ms/step - loss: 0.0408 - binary_accuracy: 0.9816\n",
            "Epoch 6/10\n",
            "79/79 [==============================] - 3s 41ms/step - loss: 0.0398 - binary_accuracy: 0.9822\n",
            "Epoch 7/10\n",
            "79/79 [==============================] - 3s 41ms/step - loss: 0.0344 - binary_accuracy: 0.9855\n",
            "Epoch 8/10\n",
            "79/79 [==============================] - 3s 41ms/step - loss: 0.0325 - binary_accuracy: 0.9850\n",
            "Epoch 9/10\n",
            "79/79 [==============================] - 3s 41ms/step - loss: 0.0315 - binary_accuracy: 0.9866\n",
            "Epoch 10/10\n",
            "79/79 [==============================] - 3s 41ms/step - loss: 0.0301 - binary_accuracy: 0.9861\n",
            "313/313 [==============================] - 1s 3ms/step - loss: nan - binary_accuracy: 0.0000e+00\n"
          ],
          "name": "stdout"
        }
      ]
    },
    {
      "cell_type": "code",
      "metadata": {
        "colab": {
          "base_uri": "https://localhost:8080/"
        },
        "id": "7_X1nLe_a70Z",
        "outputId": "1e970112-2651-435c-9da6-4b847f6be791"
      },
      "source": [
        "result_label=[[1,2],[2,3],[3,4],[4,5],[4,1]]\n",
        "after = []\n",
        "\n",
        "\n",
        "for i in range(len(result_label)):\n",
        "  if (i>2):\n",
        "    result_label[i][1] = 100\n",
        "  else:\n",
        "    result_label[i][1] = 1000\n",
        "  \n",
        "\n",
        "result_label"
      ],
      "execution_count": null,
      "outputs": [
        {
          "output_type": "execute_result",
          "data": {
            "text/plain": [
              "[[1, 1000], [2, 1000], [3, 1000], [4, 100], [4, 100]]"
            ]
          },
          "metadata": {
            "tags": []
          },
          "execution_count": 113
        }
      ]
    },
    {
      "cell_type": "code",
      "metadata": {
        "colab": {
          "base_uri": "https://localhost:8080/"
        },
        "id": "xw1CPYLE1EML",
        "outputId": "19a28d88-9e31-438f-9035-5497ab72f6dc"
      },
      "source": [
        "result_label[i][1]"
      ],
      "execution_count": null,
      "outputs": [
        {
          "output_type": "execute_result",
          "data": {
            "text/plain": [
              "1"
            ]
          },
          "metadata": {
            "tags": []
          },
          "execution_count": 109
        }
      ]
    },
    {
      "cell_type": "code",
      "metadata": {
        "colab": {
          "base_uri": "https://localhost:8080/"
        },
        "id": "7AHe4AU4f0uI",
        "outputId": "2bce6a83-1800-49bc-bb1b-df615484520e"
      },
      "source": [
        "len(rv_test['txt'])"
      ],
      "execution_count": null,
      "outputs": [
        {
          "output_type": "execute_result",
          "data": {
            "text/plain": [
              "10000"
            ]
          },
          "metadata": {
            "tags": []
          },
          "execution_count": 78
        }
      ]
    },
    {
      "cell_type": "code",
      "metadata": {
        "id": "aqw9im-aa9wi"
      },
      "source": [
        "def predict_pos_neg(review):    # rv_test\n",
        "  result_label=[]\n",
        "  for i in range(len(review['txt'])):\n",
        "      token = tokenize(review['txt'][i])\n",
        "      tf = term_frequency(token)\n",
        "      data = np.expand_dims(np.asarray(tf).astype('float32'), axis=0)\n",
        "      score = float(model.predict(data))\n",
        "      if(score > 0.5):\n",
        "          # print(\"[{}]는 {:.2f}% 확률로 긍정 리뷰이지 않을까 추측해봅니다.^^\\n\".format(review, score * 100))\n",
        "          result_label.append(1)\n",
        "      else:\n",
        "          # print(\"[{}]는 {:.2f}% 확률로 부정 리뷰이지 않을까 추측해봅니다.^^;\\n\".format(review, (1 - score) * 100))\n",
        "          result_label.append(0)\n",
        "  return result_label"
      ],
      "execution_count": null,
      "outputs": []
    },
    {
      "cell_type": "code",
      "metadata": {
        "id": "uwjOMyRZcECe"
      },
      "source": [
        "result = predict_pos_neg(rv_test)\n"
      ],
      "execution_count": null,
      "outputs": []
    },
    {
      "cell_type": "code",
      "metadata": {
        "id": "vi_moC0cpFZ3"
      },
      "source": [
        "rv_test['label'][1]"
      ],
      "execution_count": null,
      "outputs": []
    },
    {
      "cell_type": "code",
      "metadata": {
        "colab": {
          "base_uri": "https://localhost:8080/"
        },
        "id": "JtxuCXNI4Hsn",
        "outputId": "02c569e1-6e62-4cd6-ec25-35fc3f4b21a4"
      },
      "source": [
        "aa1 = train_list[0:10]\n",
        "\n",
        "\n",
        "aa1[0][1]"
      ],
      "execution_count": null,
      "outputs": [
        {
          "output_type": "execute_result",
          "data": {
            "text/plain": [
              "0"
            ]
          },
          "metadata": {
            "tags": []
          },
          "execution_count": 133
        }
      ]
    },
    {
      "cell_type": "code",
      "metadata": {
        "id": "J5X6qcSPkL8_"
      },
      "source": [
        "def tt(a, b, c=0):\n",
        "  return a, b, c"
      ],
      "execution_count": null,
      "outputs": []
    },
    {
      "cell_type": "code",
      "metadata": {
        "id": "qEjOq3jO2lc-"
      },
      "source": [
        "(rv_test)"
      ],
      "execution_count": null,
      "outputs": []
    },
    {
      "cell_type": "code",
      "metadata": {
        "colab": {
          "base_uri": "https://localhost:8080/"
        },
        "id": "-fNAKT7Swam4",
        "outputId": "cf76d74b-f42a-4152-fea4-e3619c2b3a1c"
      },
      "source": [
        "a1, a2, a3 = tt(1, 2, model)\n",
        "type(a3)"
      ],
      "execution_count": null,
      "outputs": [
        {
          "output_type": "execute_result",
          "data": {
            "text/plain": [
              "tensorflow.python.keras.engine.sequential.Sequential"
            ]
          },
          "metadata": {
            "tags": []
          },
          "execution_count": 98
        }
      ]
    },
    {
      "cell_type": "code",
      "metadata": {
        "colab": {
          "base_uri": "https://localhost:8080/"
        },
        "id": "j_Ma6-MjcGAV",
        "outputId": "93019161-162a-456a-d3d8-6a3cf6ee7281"
      },
      "source": [
        "predict_pos_neg(\"배경 음악이 영화의 분위기랑 너무 안 맞았습니다. 몰입에 방해가 됩니다.\")"
      ],
      "execution_count": null,
      "outputs": [
        {
          "output_type": "stream",
          "text": [
            "[배경 음악이 영화의 분위기랑 너무 안 맞았습니다. 몰입에 방해가 됩니다.]는 100.00% 확률로 긍정 리뷰이지 않을까 추측해봅니다.^^\n",
            "\n"
          ],
          "name": "stdout"
        }
      ]
    },
    {
      "cell_type": "code",
      "metadata": {
        "colab": {
          "base_uri": "https://localhost:8080/"
        },
        "id": "RiQukXXucJDN",
        "outputId": "9cd7cb7a-9bcf-47f6-c409-dcfe245d440d"
      },
      "source": [
        "predict_pos_neg(rv_test['txt'][1539])"
      ],
      "execution_count": null,
      "outputs": [
        {
          "output_type": "stream",
          "text": [
            "[실관 대한 조 가 진 이정도밖 는 이루 지 않늕다 진 능하 나 한일인 빡침 득한 영화 원장이 클 나 숨막히게 증 고 엔딩은 증나늖 영화 라리 안 보면 좋았을거 갇음]는 100.00% 확률로 긍정 리뷰이지 않을까 추측해봅니다.^^\n",
            "\n"
          ],
          "name": "stdout"
        }
      ]
    },
    {
      "cell_type": "code",
      "metadata": {
        "colab": {
          "base_uri": "https://localhost:8080/"
        },
        "id": "7oR4WNmxcOFd",
        "outputId": "889558d7-dc8d-49d2-d1ef-f93fd536da4e"
      },
      "source": [
        "predict_pos_neg(\"이케니아\")"
      ],
      "execution_count": null,
      "outputs": [
        {
          "output_type": "stream",
          "text": [
            "[이케니아]는 57.94% 확률로 긍정 리뷰이지 않을까 추측해봅니다.^^\n",
            "\n"
          ],
          "name": "stdout"
        }
      ]
    },
    {
      "cell_type": "code",
      "metadata": {
        "colab": {
          "base_uri": "https://localhost:8080/"
        },
        "id": "PB9Ca_eAcX6K",
        "outputId": "57f25045-8cb3-479e-fa00-6b34a5c1ae6f"
      },
      "source": [
        "rv_test.shape"
      ],
      "execution_count": null,
      "outputs": [
        {
          "output_type": "execute_result",
          "data": {
            "text/plain": [
              "(10000, 2)"
            ]
          },
          "metadata": {
            "tags": []
          },
          "execution_count": 39
        }
      ]
    },
    {
      "cell_type": "code",
      "metadata": {
        "colab": {
          "base_uri": "https://localhost:8080/"
        },
        "id": "tg4ENeD9A24Q",
        "outputId": "fcc6db55-ff3b-4148-b9c8-94167d42a7d7"
      },
      "source": [
        "predict_pos_neg(\"스카니아\")"
      ],
      "execution_count": null,
      "outputs": [
        {
          "output_type": "stream",
          "text": [
            "[스카니아]는 99.99% 확률로 부정 리뷰이지 않을까 추측해봅니다.^^;\n",
            "\n"
          ],
          "name": "stdout"
        }
      ]
    },
    {
      "cell_type": "code",
      "metadata": {
        "id": "4f8dBfChSHhJ"
      },
      "source": [
        "from tensorflow.keras.models import load_model"
      ],
      "execution_count": null,
      "outputs": []
    },
    {
      "cell_type": "code",
      "metadata": {
        "colab": {
          "base_uri": "https://localhost:8080/"
        },
        "id": "X2Qj2rh2BnzJ",
        "outputId": "a520c0b8-ee85-4213-a25e-861f6f5ec859"
      },
      "source": [
        "model.save('/content/gdrive/My Drive/first_Model')"
      ],
      "execution_count": null,
      "outputs": [
        {
          "output_type": "stream",
          "text": [
            "INFO:tensorflow:Assets written to: /content/gdrive/My Drive/first_Model/assets\n"
          ],
          "name": "stdout"
        }
      ]
    },
    {
      "cell_type": "code",
      "metadata": {
        "id": "XTKtNk8sB515"
      },
      "source": [
        "!mkdir -p model_saved"
      ],
      "execution_count": null,
      "outputs": []
    },
    {
      "cell_type": "code",
      "metadata": {
        "id": "v7WrCzXcCkuX"
      },
      "source": [
        ""
      ],
      "execution_count": null,
      "outputs": []
    }
  ]
}